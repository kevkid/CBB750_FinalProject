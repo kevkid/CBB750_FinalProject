{
 "cells": [
  {
   "cell_type": "code",
   "execution_count": 7,
   "metadata": {
    "collapsed": false
   },
   "outputs": [],
   "source": [
    "\"\"\"\n",
    "Created on Thu Apr 13 10:08:24 2017\n",
    "@author: kevin\n",
    "Adapted 2017-05-08 as inspired by:\n",
    "http://stackoverflow.com/questions/6862770/python-3-let-json-object-accept-bytes-or-let-urlopen-output-strings\n",
    "\"\"\"\n",
    "\n",
    "from urllib import urlopen \n",
    "import json\n",
    "import codecs\n",
    "import pymongo\n",
    "'''Get the records from fda'''\n",
    "def getRecords(num_records = 100, start_date='20120101', end_date='20161231'):\n",
    "    reader = codecs.getreader('utf-8')\n",
    "    #num_records = 4587015\n",
    "    records = []\n",
    "    i = 0\n",
    "    while i in range(0,num_records):#go through all records\n",
    "        i+=100\n",
    "        #i = i%5000#limit for skip, as per FDA api\n",
    "        url = \"https://api.fda.gov/drug/event.json?api_key=QIYs3xaRHyjYEkcprTinxbS6QXABp4cu55ZcR2iV&search=receivedate:[\" + str(start_date) + \"+TO+\" + str(end_date) + \"]&limit=100\" + \"&skip=\" + str(i)\n",
    "        response = urlopen(url)\n",
    "        data = json.load(reader(response))\n",
    "        print(i)\n",
    "        results = data[\"results\"]\n",
    "        records.extend(results)\n",
    "    '''\n",
    "    #save data\n",
    "    with open('drug_adverse_events.json', 'w') as outfile:\n",
    "        json.dump(records, outfile)\n",
    "        \n",
    "    for record in records:\n",
    "        print record[\"transmissiondate\"]\n",
    "    '''\n",
    "    return records"
   ]
  },
  {
   "cell_type": "code",
   "execution_count": 8,
   "metadata": {
    "collapsed": false
   },
   "outputs": [
    {
     "name": "stdout",
     "output_type": "stream",
     "text": [
      "100\n"
     ]
    }
   ],
   "source": [
    "'''sanity check'''\n",
    "record = getRecords(num_records=100, start_date='20120101', end_date='20161231')"
   ]
  },
  {
   "cell_type": "code",
   "execution_count": 9,
   "metadata": {
    "collapsed": false
   },
   "outputs": [],
   "source": [
    "def get_recursively(search_dict, field):\n",
    "    \"\"\"Takes a dict with nested lists and dicts,\n",
    "    and searches all dicts for a key of the field\n",
    "    provided.\n",
    "    \"\"\"\n",
    "    fields_found = []\n",
    "\n",
    "    for key, value in search_dict.iteritems():\n",
    "\n",
    "        if key == field:\n",
    "            fields_found.append(value)\n",
    "\n",
    "        elif isinstance(value, dict):\n",
    "            results = get_recursively(value, field)\n",
    "            for result in results:\n",
    "                fields_found.append(result)\n",
    "\n",
    "        elif isinstance(value, list):\n",
    "            for item in value:\n",
    "                if isinstance(item, dict):\n",
    "                    more_results = get_recursively(item, field)\n",
    "                    for another_result in more_results:\n",
    "                        fields_found.append(another_result)\n",
    "    #we want to return a list of values, and we do not want to try and iterate over some none type\n",
    "    \n",
    "    new_field_found = []\n",
    "    if type(fields_found) == list:\n",
    "        for sublist in fields_found:\n",
    "            if type(sublist) == list:\n",
    "                for val in sublist:\n",
    "                    new_field_found.append(convert_to_float(val))#also convert to float\n",
    "            else:\n",
    "                new_field_found.append(convert_to_float(sublist))#also convert to float\n",
    "    return list(set(new_field_found))\n",
    "\n",
    "#This gives us the keys using the dot notation. It also gives us an empty \n",
    "#string if we dont find the key. It also checks if the next value is inside of a list.\n",
    "#Some work needs to be done on this. I am not keeping the structure. We dont need\n",
    "#the structure to stay the same\n",
    "#TODO:\n",
    "#    We need to make sure that we can go in through an arbitrary number of lists.\n",
    "#    It works for an arbitrary number of dicts.\n",
    "#'''"
   ]
  },
  {
   "cell_type": "code",
   "execution_count": 10,
   "metadata": {
    "collapsed": true
   },
   "outputs": [],
   "source": [
    "def getNessessaryKeyValues(record):\n",
    "    fields = ['safetyreportid',\n",
    "            'receivedate',\n",
    "            'serious',\n",
    "            'seriousnessdeath',\n",
    "            'seriousnessdisabling',\n",
    "            'seriousnesshospitalization',\n",
    "            'seriousnesslifethreatening',\n",
    "            'seriousnessother',\n",
    "            'transmissiondate',\n",
    "            'duplicate',\n",
    "            'companynumb',\n",
    "            'occurcountry',\n",
    "            'primarysourcecountry',\n",
    "            #'primarysource',\n",
    "            'qualification',\n",
    "            'reportercountry',\n",
    "            #'reportduplicate',\n",
    "            'duplicatesource',\n",
    "            'duplicatenumb',\n",
    "            \"patientonsetage\",\n",
    "            \"patientonsetageunit\",\n",
    "            \"patientsex\",\n",
    "            #\"patient.patientweight\",#interseting, this data may be useful but is not recorded much\n",
    "            \"patientdeath\",\n",
    "            \"patientdeathdate\",\n",
    "            \"actiondrug\",\n",
    "            #\"patient.drug.drugadditional\",\n",
    "            #\"patient.drug.drugcumulativedosagenumb\",\n",
    "            #\"patient.drug.drugcumulativedosageunit\",\n",
    "            \"drugdosageform\",\n",
    "            #\"patient.drug.drugintervaldosagedefinition\",\n",
    "            #\"patient.drug.drugrecurreadministration\",\n",
    "            #\"patient.drug.drugseparatedosagenumb\",\n",
    "            \"drugadministrationroute\",\n",
    "            \"drugcharacterization\",\n",
    "            \"drugdosagetext\",\n",
    "            'drugenddate',#sometimes patients do not have an end date? maybe replace with some value like -1\n",
    "            'drugindication',\n",
    "            'drugstartdate',\n",
    "            #'patient.drug.drugtreatmentduration',\n",
    "            #'patient.drug.drugtreatmentdurationunit',\n",
    "            'medicinalproduct',\n",
    "            'brand_name',\n",
    "            'generic_name',\n",
    "            'manufacturer_name',\n",
    "            'nui',\n",
    "            'package_ndc',\n",
    "            'pharm_class_cs',\n",
    "            'pharm_class_epc',\n",
    "            'pharm_class_pe',\n",
    "            'pharm_class_moa',\n",
    "            'product_ndc',\n",
    "            'rxcui',\n",
    "            'substance_name',\n",
    "            'reactionmeddrapt',\n",
    "            'reactionmeddraversionpt',\n",
    "            'reactionoutcome'\n",
    "            ]\n",
    "    subrecord = {}\n",
    "    for f in fields:\n",
    "        extracted_record = get_recursively(record, f)\n",
    "        #we get the key and try to convert to float, otherwise return the same val\n",
    "        s_record = {}\n",
    "        if not extracted_record:\n",
    "            s_record[f] = None\n",
    "        elif(len(extracted_record) < 2):#if the result is just 1 value, then return that value not a list\n",
    "            s_record[f] = extracted_record[0]\n",
    "        else:\n",
    "            s_record[f] = extracted_record\n",
    "        subrecord.update(s_record)\n",
    "    return subrecord\n"
   ]
  },
  {
   "cell_type": "code",
   "execution_count": 11,
   "metadata": {
    "collapsed": true
   },
   "outputs": [],
   "source": [
    "def convert_to_float(s):\n",
    "    try:\n",
    "        return float(s)\n",
    "    except ValueError:\n",
    "        return s\n",
    "    except TypeError:\n",
    "        return s"
   ]
  },
  {
   "cell_type": "code",
   "execution_count": 12,
   "metadata": {
    "collapsed": false
   },
   "outputs": [],
   "source": [
    "import pandas as pd\n",
    "\n",
    "subrecords = []#Get all the records and pull out the stuff we need\n",
    "for recor in record:\n",
    "    subrecords.append(getNessessaryKeyValues(recor))\n",
    "#del records#save memory\n",
    "#del record\n",
    "\n",
    "x_y_dataframe = pd.DataFrame(subrecords)\n",
    "#x_y_dataframe.dropna(how='any')#here we can drop a row if there is any na\n",
    "#del subrecords\n",
    "\n",
    "#x_y_dataframe2 = x_y_dataframe.dropna(axis=0)\n",
    "#get labels\n",
    "#(x,y) = get_y_vals(x_y_dataframe, 'serious')\n",
    "#del x_y_dataframe\n"
   ]
  },
  {
   "cell_type": "code",
   "execution_count": 13,
   "metadata": {
    "collapsed": false
   },
   "outputs": [],
   "source": [
    "'''Retrieve data_cols (variables) that are complete - additional variables can be added to this list'''\n",
    "#x_y_dataframe.columns\n",
    "#only looked at complete records with columns in data_cols. New dataframe = df_notnan\n",
    "#'patientdeath', 'seriousnessdeath', 'seriousnessdisabling','seriousnesshospitalization', 'seriousnesslifethreatening','seriousnessother'\n",
    "data_cols = ['patientonsetage','safetyreportid','serious','occurcountry','patientsex','pharm_class_epc','reactionmeddrapt','reactionoutcome']\n",
    "df_notnan = x_y_dataframe[data_cols].dropna()\n",
    "df_notnan['patientsex'][df_notnan['patientsex'] == 1.0] = 'Male'\n",
    "df_notnan['patientsex'][df_notnan['patientsex'] == 2.0] = 'Female'\n",
    "#df_notnan\n"
   ]
  },
  {
   "cell_type": "code",
   "execution_count": 14,
   "metadata": {
    "collapsed": false
   },
   "outputs": [],
   "source": [
    "from scipy import stats\n",
    "import pandas as pd\n",
    "import matplotlib.pyplot as plt\n",
    "from pandas.tools import plotting\n",
    "import requests\n",
    "#import seaborn as sns\n",
    "import numpy as np\n",
    "from sklearn import preprocessing\n",
    "%matplotlib inline  \n",
    "import seaborn as sns"
   ]
  },
  {
   "cell_type": "code",
   "execution_count": 15,
   "metadata": {
    "collapsed": true
   },
   "outputs": [],
   "source": [
    "'''Boxplot function - df = dataframe'''\n",
    "def show_boxplot(df,x,y,color):\n",
    "    sns.set(style=\"ticks\")\n",
    "    sns.boxplot(x=x, y=y, hue=color, data=df, palette=\"PRGn\")\n",
    "    #sns.boxplot(x=x, y=y, hue=color, data=df_notnan, palette=\"PRGn\")\n",
    "    sns.despine(offset=10, trim=True)\n",
    "    sns.plt.show()"
   ]
  },
  {
   "cell_type": "code",
   "execution_count": 16,
   "metadata": {
    "collapsed": false,
    "scrolled": true
   },
   "outputs": [],
   "source": [
    "'''Count reactions for each patient - created 2 new columns(dict/series)'''\n",
    "df_notnan['reactionmed_count'] = df_notnan['reactionmeddrapt'].apply(lambda x: len(x) if isinstance(x,list) else 1)\n",
    "df_notnan['reactionoutcomereal'] = df_notnan['reactionoutcome'].apply(lambda x: x[0] if isinstance(x,list) else x)\n",
    "df_notnan['pharmclass_count'] = df_notnan['pharm_class_epc'].apply(lambda x: len(x) if isinstance(x,list) else 1)\n",
    "#df_notnan"
   ]
  },
  {
   "cell_type": "code",
   "execution_count": 17,
   "metadata": {
    "collapsed": false
   },
   "outputs": [],
   "source": [
    "'''Extract Ontology URLs and insert them into dataframe for each patient id'''\n",
    "def extract_SNOMEID(url):\n",
    "    return url.split('/')[-1]\n",
    "\n",
    "def pull_url(field):\n",
    "    URL = 'https://data.bioontology.org/annotator'\n",
    "    \n",
    "    data = {\n",
    "    'apikey': '1aa5877a-b18b-43a2-bf2d-15a2637638f8',\n",
    "    'text': field,\n",
    "    'longest_only': False,\n",
    "    'whole_word_only': True,\n",
    "    'exclude_numbers': False,\n",
    "    'exclude_synonyms': False,\n",
    "    'ontologies': 'SNOMEDCT'\n",
    "    }\n",
    "    annotated = json.loads(requests.post(URL, data=data).text)\n",
    "    #print('\\n')\n",
    "    #print(field)\n",
    "    #print(annotated[0])\n",
    "    url = annotated[0]['annotatedClass']['@id']\n",
    "    return url\n",
    "\n",
    "df_notnan['ontology'] = np.nan\n",
    "df_notnan['ontology'] = df_notnan['ontology'].astype('object')\n",
    "\n",
    "for i,row in df_notnan.iterrows():\n",
    "    data = row['reactionmeddrapt']\n",
    "    #print(data)\n",
    "    if isinstance(data,list):\n",
    "        urls= []\n",
    "        smeids = []\n",
    "        for check in data:\n",
    "            #print('LIST\\n')\n",
    "            url = pull_url(check)\n",
    "            urls.append(url)\n",
    "            smeid = extract_SNOMEID(url.encode('utf8'))\n",
    "            smeids.append(smeid)\n",
    "\n",
    "        df_notnan.set_value(i,'ontology',smeids)\n",
    "        #df_notnan.set_value(i,'url',url)#can remove....this may not be needed(takes way too long to get)\n",
    "    else:\n",
    "        #print('NOT LIST\\n')\n",
    "        #print(data)\n",
    "        url = pull_url(data)\n",
    "        smeid = extract_SNOMEID(url.encode('utf8'))\n",
    "        df_notnan.set_value(i,'ontology',smeid)\n",
    "        #df_notnan.set_value(i,'url',url)#can remove...this may may not be needed (takes way too long to get)\n",
    "            \n",
    "            \n",
    "#df_notnan         "
   ]
  },
  {
   "cell_type": "code",
   "execution_count": 18,
   "metadata": {
    "collapsed": false
   },
   "outputs": [],
   "source": [
    "'''iterate through rows regardless to retrieve all reactions (list or element) and associated age and gender\n",
    "into new dataframe (df2)'''\n",
    "age = []\n",
    "sex = []\n",
    "reactions = []\n",
    "\n",
    "for i,row in df_notnan.iterrows():\n",
    "    rr = row['reactionmeddrapt']\n",
    "    s = row['patientsex']\n",
    "    a = row['patientonsetage']\n",
    "    #if row['reactionmed_count']>1:\n",
    "    if isinstance(rr,list) and len(rr)>1 and len(rr[0])>1:\n",
    "        reactions+=rr\n",
    "        for j in range(len(rr)):\n",
    "            sex.append(s)\n",
    "            age.append(a)\n",
    "    else:\n",
    "        reactions.append(rr)\n",
    "        sex.append(s)\n",
    "        age.append(a)\n",
    "#df2 = pd.DataFrame([age,sex,reactions],columns=['age','sex','reactions'])\n",
    "df2 = pd.DataFrame({'age':age,'sex':sex,'reactions':reactions})\n",
    "#[len(age), len(sex),len(reactions)]\n",
    "\n",
    "    \n",
    "    "
   ]
  },
  {
   "cell_type": "code",
   "execution_count": 21,
   "metadata": {
    "collapsed": false
   },
   "outputs": [
    {
     "name": "stdout",
     "output_type": "stream",
     "text": [
      "1.0\n",
      "Ttest_indResult(statistic=1.0723691492927119, pvalue=0.30875112142331146)\n",
      "2.0\n",
      "Ttest_indResult(statistic=-0.49357933837942836, pvalue=0.62310557821988688)\n"
     ]
    }
   ],
   "source": [
    "'''Statistical Significance Test - TTest'''\n",
    "groups = df_notnan.groupby('serious')\n",
    "for groupname,groupval in groups:\n",
    "    data1 = groupval['patientonsetage'][groupval['patientsex']=='Male']\n",
    "    data2 = groupval['patientonsetage'][groupval['patientsex']=='Female']\n",
    "    print(groupname)\n",
    "    print(stats.ttest_ind(data1, data2))\n",
    "    "
   ]
  },
  {
   "cell_type": "code",
   "execution_count": 22,
   "metadata": {
    "collapsed": false
   },
   "outputs": [
    {
     "data": {
      "image/png": "[encoded data removed]",
      "text/plain": [
       "<matplotlib.figure.Figure at 0x44a1be0>"
      ]
     },
     "metadata": {},
     "output_type": "display_data"
    }
   ],
   "source": [
    "show_boxplot(df_notnan,\"serious\",\"patientonsetage\",\"patientsex\")"
   ]
  },
  {
   "cell_type": "code",
   "execution_count": 24,
   "metadata": {
    "collapsed": false
   },
   "outputs": [
    {
     "data": {
      "text/plain": [
       "[(u'Dyspnoea', 17),\n",
       " (u'Cough', 9),\n",
       " (u'Fatigue', 9),\n",
       " (u'Unevaluable event', 6),\n",
       " (u'Peripheral swelling', 4)]"
      ]
     },
     "execution_count": 24,
     "metadata": {},
     "output_type": "execute_result"
    }
   ],
   "source": [
    "'''Top reactions'''\n",
    "from collections import Counter\n",
    "Counter(df2['reactions']).most_common(5)"
   ]
  },
  {
   "cell_type": "code",
   "execution_count": 33,
   "metadata": {
    "collapsed": false
   },
   "outputs": [
    {
     "data": {
      "image/png": "[encoded data removed]",
      "text/plain": [
       "<matplotlib.figure.Figure at 0x3f6b7f0>"
      ]
     },
     "metadata": {},
     "output_type": "display_data"
    }
   ],
   "source": [
    "'''Age and Sex grouped by Reactions'''\n",
    "top5 = [x for x,y in Counter(df2['reactions']).most_common(5)]; top5\n",
    "show_boxplot(df2[df2['reactions'].isin(top5)],\"reactions\",\"age\",\"sex\")"
   ]
  },
  {
   "cell_type": "code",
   "execution_count": 34,
   "metadata": {
    "collapsed": false
   },
   "outputs": [
    {
     "name": "stdout",
     "output_type": "stream",
     "text": [
      "{u'FR': 1, u'ES': 1, u'US': 80, u'CN': 4}\n"
     ]
    },
    {
     "data": {
      "text/plain": [
       "<matplotlib.text.Text at 0xe455588>"
      ]
     },
     "execution_count": 34,
     "metadata": {},
     "output_type": "execute_result"
    },
    {
     "data": {
      "image/png": "[encoded data removed]",
      "text/plain": [
       "<matplotlib.figure.Figure at 0xe483438>"
      ]
     },
     "metadata": {},
     "output_type": "display_data"
    }
   ],
   "source": [
    "countrycounts = {}\n",
    "fig,ax = plt.subplots(figsize=(15,8))\n",
    "for row in df_notnan.itertuples():\n",
    "    country = row.occurcountry\n",
    "    countrycount = countrycounts.get(country, 0)\n",
    "    countrycounts[country]=countrycount+1\n",
    "print countrycounts\n",
    "xlocations = np.array(range(len(countrycounts)))\n",
    "width = 0.5\n",
    "ax.bar(xlocations, countrycounts.values(), width=width, align = 'center')\n",
    "plt.xticks(range(len(countrycounts)),countrycounts.keys())\n",
    "plt.xlabel('Country of Origin')\n",
    "plt.ylabel('Total Counts')"
   ]
  },
  {
   "cell_type": "code",
   "execution_count": 36,
   "metadata": {
    "collapsed": false
   },
   "outputs": [
    {
     "data": {
      "image/png": "[encoded data removed]",
      "text/plain": [
       "<matplotlib.figure.Figure at 0xe05eef0>"
      ]
     },
     "metadata": {},
     "output_type": "display_data"
    }
   ],
   "source": [
    "show_boxplot(df_notnan, \"occurcountry\",\"patientonsetage\",\"patientsex\")"
   ]
  },
  {
   "cell_type": "code",
   "execution_count": 37,
   "metadata": {
    "collapsed": false,
    "scrolled": false
   },
   "outputs": [
    {
     "name": "stdout",
     "output_type": "stream",
     "text": [
      "<type 'numpy.float64'>\n",
      "<type 'numpy.float64'>\n"
     ]
    },
    {
     "data": {
      "text/plain": [
       "''"
      ]
     },
     "execution_count": 37,
     "metadata": {},
     "output_type": "execute_result"
    },
    {
     "data": {
      "image/png": "[encoded data removed]",
      "text/plain": [
       "<matplotlib.figure.Figure at 0xc63a668>"
      ]
     },
     "metadata": {},
     "output_type": "display_data"
    }
   ],
   "source": [
    "'''Group Histogram - Serious Vs Country'''\n",
    "\n",
    "#x,y,z = np.unique(df_notnan['occurcountry'],return_inverse=True,return_counts=True) #https://docs.scipy.org/doc/numpy-1.10.4/reference/generated/numpy.unique.html\n",
    "#df_notnan['occurcountry'].value_counts()\n",
    "#df_notnan['occurcountry'][y==3]\n",
    "'''transform non-numerical labels '''\n",
    "le = preprocessing.LabelEncoder()\n",
    "df_notnan['occurcountry_num'] = le.fit_transform(df_notnan['occurcountry'])\n",
    "df_notnan['patientsex_num'] = le.fit_transform(df_notnan['patientsex'])\n",
    "\n",
    "groups = df_notnan.groupby(['serious'])\n",
    "fig,ax = plt.subplots(figsize=(15,8))\n",
    "axs = []\n",
    "for groupname,groupval in groups:\n",
    "    #sns.distplot(groupval['occurcountry_num'], kde=False)\n",
    "    print(type(groupname))\n",
    "    a = ax.hist(groupval['occurcountry_num'],label=str(groupname))\n",
    "    #a = ax.bar(groupval['occurcountry_num'].value_counts(),align='center')\n",
    "    axs.append(a)\n",
    "    #print(groupval['occurcountry_num'])\n",
    "ax.set_xlabel('Countries',fontsize=16)\n",
    "ax.set_xticks([0.3,1.2,2.1,3]) #Play with these to line up the ticks with the bars\n",
    "ax.set_xticklabels(np.unique(df_notnan['occurcountry']),fontsize=12)\n",
    "#ax.legend(axs,np.unique(df_notnan['serious']))\n",
    "ax.legend()\n",
    "''''''"
   ]
  },
  {
   "cell_type": "code",
   "execution_count": 6,
   "metadata": {
    "collapsed": true
   },
   "outputs": [],
   "source": [
    "\n",
    "def get_dotted(d, keys):\n",
    "    if \".\" in keys:\n",
    "        key, rest = keys.split(\".\", 1)\n",
    "        if type(d) == list:#make sure its not a list\n",
    "            d = d[0]\n",
    "        if type(d[key]) != list and type(d[key]) != dict:#make sure its either a dict or list, otherwise return empty\n",
    "            if keys not in d:\n",
    "                d[keys] = None#some empty value\n",
    "            return {rest: d[key]}\n",
    "        return get_dotted(d[key], rest)\n",
    "    else:\n",
    "        if type(d) == list:#make sure its not a list\n",
    "            d = d[0]\n",
    "        if keys not in d:\n",
    "            d[keys] = None#some empty value\n",
    "        \n",
    "        subDic = {keys: d[keys]}\n",
    "        return subDic"
   ]
  },
  {
   "cell_type": "code",
   "execution_count": null,
   "metadata": {
    "collapsed": true
   },
   "outputs": [],
   "source": []
  },
  {
   "cell_type": "code",
   "execution_count": 21,
   "metadata": {
    "collapsed": false
   },
   "outputs": [
    {
     "data": {
      "text/plain": [
       "'\\nReturns a trained naive_bays model\\n'"
      ]
     },
     "execution_count": 21,
     "metadata": {},
     "output_type": "execute_result"
    }
   ],
   "source": [
    "def get_y_vals(df, y_label):\n",
    "    #df.loc[pandas.isnull(df[y_label])] = \"\"#missing data\n",
    "    #df.loc[df[y_label].str.contains(\"\", na=False)] = 0\n",
    "    y = df[y_label]\n",
    "    del df[y_label]\n",
    "    return (df, y)#return the new dataframe and y array\n",
    "\n",
    "'''\n",
    "Returns a trained naive_bays model\n",
    "'''"
   ]
  },
  {
   "cell_type": "code",
   "execution_count": null,
   "metadata": {
    "collapsed": true
   },
   "outputs": [],
   "source": [
    "def naive_bays(x_train, y_train, bagging = False, boosting = False):\n",
    "    from sklearn.naive_bayes import GaussianNB as NB\n",
    "    nb = NB()\n",
    "    if bagging == True and boosting == True:\n",
    "        raise ValueError(\"Cant have bagging and boosting enabled at the same time\")\n",
    "    if bagging == True:#if bagging\n",
    "        from sklearn.ensemble import BaggingClassifier\n",
    "        model = BaggingClassifier (nb, max_samples=.5, max_features=.5)\n",
    "    elif boosting == True:\n",
    "        from sklearn.ensemble import AdaBoostClassifier\n",
    "        model = AdaBoostClassifier(nb,\n",
    "                         algorithm=\"SAMME\",\n",
    "                         n_estimators=300)\n",
    "    else:#just regular logistic regression\n",
    "        model = nb\n",
    "    model.fit(x_train, y_train)\n",
    "    return model\n",
    "'''\n",
    "Returns a trained logistic regression model\n",
    "'''"
   ]
  },
  {
   "cell_type": "code",
   "execution_count": null,
   "metadata": {
    "collapsed": true
   },
   "outputs": [],
   "source": [
    "def logistic_regression(x_train, y_train, bagging = False, boosting = False):\n",
    "    from sklearn import linear_model\n",
    "    lr = linear_model.LogisticRegression()\n",
    "    if bagging == True and boosting == True:\n",
    "        raise ValueError(\"Cant have bagging and boosting enabled at the same time\")\n",
    "    if bagging == True:#if bagging\n",
    "        from sklearn.ensemble import BaggingClassifier\n",
    "        model = BaggingClassifier (lr, max_samples=.5, max_features=.5)\n",
    "    elif boosting == True:\n",
    "        from sklearn.ensemble import AdaBoostClassifier\n",
    "        model = AdaBoostClassifier(lr,\n",
    "                         algorithm=\"SAMME\",\n",
    "                         n_estimators=300)\n",
    "    else:#just regular logistic regression\n",
    "        model = lr\n",
    "    model.fit(x_train, y_train)\n",
    "    return model"
   ]
  },
  {
   "cell_type": "code",
   "execution_count": null,
   "metadata": {
    "collapsed": true
   },
   "outputs": [],
   "source": [
    "\n",
    "def random_forest(x_train, y_train, estimators = 100, maxDepth = None, randomState = 10, maxFeatures = 'auto'):\n",
    "    from sklearn.ensemble import RandomForestClassifier\n",
    "    model = RandomForestClassifier(n_estimators=estimators, max_depth=maxDepth,\n",
    "                           random_state=randomState, max_features=maxFeatures)\n",
    "    model.fit(x_train, y_train)\n",
    "    return model\n",
    "\n",
    "'''\n",
    "split arrays into evenly sized chunks\n",
    "'''"
   ]
  },
  {
   "cell_type": "code",
   "execution_count": null,
   "metadata": {
    "collapsed": true
   },
   "outputs": [],
   "source": [
    "def chunks(array, n):\n",
    "    \"\"\"Yield successive n-sized chunks from array.\"\"\"\n",
    "    for i in xrange(0, len(array), n):\n",
    "        yield array[i:i + n]"
   ]
  },
  {
   "cell_type": "code",
   "execution_count": null,
   "metadata": {
    "collapsed": true
   },
   "outputs": [],
   "source": [
    "#Auto encodes any dataframe column of type category or object.\n",
    "def dummyEncode(df):\n",
    "    from sklearn.preprocessing import LabelEncoder\n",
    "    columnsToEncode = list(df.select_dtypes(include=['category','object']))\n",
    "    le = LabelEncoder()\n",
    "    for feature in columnsToEncode:\n",
    "        try:\n",
    "            df[feature] = le.fit_transform(df[feature])\n",
    "        except:\n",
    "            print('Error encoding '+feature)\n",
    "    return df"
   ]
  },
  {
   "cell_type": "code",
   "execution_count": null,
   "metadata": {
    "collapsed": true
   },
   "outputs": [],
   "source": [
    "def one_hot_encode(categorical_labels):\n",
    "    res = []\n",
    "    tmp = None\n",
    "    for col in categorical_labels:\n",
    "        v = x[col].astype(str).str.strip('[]').str.get_dummies(', ')#cant set a prefix\n",
    "        if len(res) == 2:\n",
    "            tmp = pandas.concat(res, axis=1)\n",
    "            del res\n",
    "            res = []\n",
    "            res.append(tmp)\n",
    "            del tmp\n",
    "            tmp = None\n",
    "        else:\n",
    "            res.append(v)\n",
    "    result = pandas.concat(res, axis=1)\n",
    "    return result"
   ]
  },
  {
   "cell_type": "code",
   "execution_count": null,
   "metadata": {
    "collapsed": true
   },
   "outputs": [],
   "source": [
    "if __name__ == '__main__':\n",
    "    #main method\n",
    "    records = getRecords(num_records=1000)#get records\n",
    "    \n",
    "    #save to disk\n",
    "    with open('data.json', 'w') as outfile:\n",
    "        json.dump(records, outfile)\n",
    "    #read from disk\n",
    "    with open('data.json') as json_data:\n",
    "        records = json.load(json_data)\n",
    "    subrecords = []#Get all the records and pull out the stuff we need\n",
    "    for record in records:\n",
    "        subrecords.append(getNessessaryKeyValues(record))\n",
    "    del records#save memory\n",
    "    del record\n",
    "    \n",
    "    import pandas\n",
    "    x_y_dataframe = pandas.DataFrame(subrecords)\n",
    "    #x_y_dataframe.dropna(how='any')#here we can drop a row if there is any na\n",
    "    del subrecords\n",
    "    \n",
    "    #x_y_dataframe2 = x_y_dataframe.dropna(axis=0)\n",
    "    #get labels\n",
    "    (x,y) = get_y_vals(x_y_dataframe, 'serious')\n",
    "    del x_y_dataframe\n",
    "    #df = pandas.DataFrame([{'drug': ['drugA','drugB'], 'patient': 'john'}, {'drug': ['drugC','drugD'], 'patient': 'angel'}])\n",
    "    \n",
    "    categorical_labels = [\n",
    " 'actiondrug',\n",
    " 'brand_name',\n",
    " 'companynumb',\n",
    " 'drugadministrationroute',\n",
    " 'drugcharacterization',\n",
    " 'drugdosageform',\n",
    " 'drugdosagetext',\n",
    " 'drugenddate',\n",
    " 'drugindication',\n",
    " 'drugstartdate',\n",
    " #'duplicate',\n",
    " 'duplicatenumb',\n",
    " 'duplicatesource',\n",
    " 'generic_name',\n",
    " 'manufacturer_name',\n",
    " 'medicinalproduct',\n",
    " 'nui',#has lists\n",
    " 'occurcountry',\n",
    " 'package_ndc',\n",
    " 'patientdeath',\n",
    " 'patientdeathdate',\n",
    " #'patientonsetage',\n",
    " 'patientonsetageunit',\n",
    " 'patientsex',\n",
    " 'pharm_class_cs',\n",
    " 'pharm_class_epc',\n",
    " 'pharm_class_moa',\n",
    " 'pharm_class_pe',\n",
    " 'primarysourcecountry',\n",
    " 'product_ndc',\n",
    " #'qualification',\n",
    " 'reactionmeddrapt',\n",
    " 'reactionmeddraversionpt',\n",
    " 'reactionoutcome',\n",
    " #'receivedate',\n",
    " 'reportercountry',\n",
    " 'rxcui',\n",
    " #'safetyreportid',\n",
    " 'seriousnessdeath',\n",
    " 'seriousnessdisabling',\n",
    " 'seriousnesshospitalization',\n",
    " 'seriousnesslifethreatening',\n",
    " 'seriousnessother',\n",
    " 'substance_name',\n",
    " #'transmissiondate'\n",
    " ]\n",
    "    #save data\n",
    "    x.to_pickle('x_data.pkl')\n",
    "    y.to_pickle('y_data.pkl')\n",
    "    #load data\n",
    "    import pandas\n",
    "    x = pandas.read_pickle('x_data.pkl')\n",
    "    y = pandas.read_pickle('y_data.pkl')\n",
    "    \n",
    "    '''\n",
    "    get difference in labeles we are one-hot encoding and ones we aren't\n",
    "    We need to preserve the ones we arent one-hot encoding\n",
    "    '''\n",
    "    s = set(categorical_labels)\n",
    "    not_categorical_labels = [x_val for x_val in list(x) if x_val not in s]\n",
    "    x_non_cat_labels = x[not_categorical_labels]#save non cat to temp var\n",
    "    \n",
    "    num_processors = 4\n",
    "    n_size = int(round(len(categorical_labels)/num_processors))\n",
    "    import time\n",
    "    import multiprocessing\n",
    "    \n",
    "    start_time = time.time()\n",
    "    p = multiprocessing.Pool(num_processors)\n",
    "    res = (p.map(one_hot_encode, list(chunks(categorical_labels, n_size))))\n",
    "    print (time.time()-start_time)\n",
    "    p.terminate()#kill the workers\n",
    "    res.append(x_non_cat_labels)\n",
    "    del x_non_cat_labels\n",
    "    x = pandas.concat(res, axis=1)\n",
    "    y = pandas.to_numeric(y.astype(str).str.strip('[]'))\n",
    "    x = x.dropna(how='any')\n",
    "    y = y[x.index]\n",
    "#    y[y.isnull()] = 0#we do this to convert nans, if its empty, we set it to 0\n",
    "    #y[0:20] = 1#just a test\n",
    "#    import numpy as np\n",
    "#    x[np.isfinite(x['drugintervaldosagedefinition'])]\n",
    "    #x_y_dataframe.dropna(how='any')#here we can drop a row if there is any na\n",
    "    #split the data:\n",
    "    from sklearn.model_selection import train_test_split\n",
    "    X_train, X_test, y_train, y_test = train_test_split(x, y, test_size=0.33, random_state=42)\n",
    "    del x, y\n",
    "    #do a logistic regression\n",
    "    model = logistic_regression(X_train, list(y_train), bagging=True)\n",
    "    y_hat = model.predict(X_test)#predict\n",
    "    y_test = y_test.reset_index(drop=True)    \n",
    "    from sklearn.metrics import accuracy_score\n",
    "    accuracy_score(y_test, y_hat)\n",
    "    \n",
    "    \n",
    "    #do a random forest\n",
    "    model = random_forest(X_train, list(y_train))\n",
    "    y_hat = model.predict(X_test)#predict\n",
    "    y_test = y_test.reset_index(drop=True)    \n",
    "    from sklearn.metrics import accuracy_score\n",
    "    accuracy_score(y_test, y_hat)\n",
    "    \n",
    "    #do a naive bays\n",
    "    model = naive_bays(X_train, list(y_train), bagging=True)\n",
    "    y_hat = model.predict(X_test)#predict\n",
    "    y_test = y_test.reset_index(drop=True)    \n",
    "    from sklearn.metrics import accuracy_score\n",
    "    accuracy_score(y_test, y_hat)    \n",
    "    \n",
    "    \n",
    "    collection = startmongodb()#get collection\n",
    "    collection.count()\n",
    "    collection.insert_many(subrecords)\n",
    "    print(collection.find_one())\n"
   ]
  },
  {
   "cell_type": "code",
   "execution_count": 7,
   "metadata": {
    "collapsed": false
   },
   "outputs": [
    {
     "data": {
      "text/plain": [
       "Collection(Database(MongoClient(host=['localhost:27017'], document_class=dict, tz_aware=False, connect=True), u'cbb750_final_database'), u'fda_records')"
      ]
     },
     "execution_count": 7,
     "metadata": {},
     "output_type": "execute_result"
    }
   ],
   "source": [
    "startmongodb()"
   ]
  },
  {
   "cell_type": "code",
   "execution_count": 3,
   "metadata": {
    "collapsed": false
   },
   "outputs": [],
   "source": [
    "#!/usr/bin/env python2\n",
    "# -*- coding: utf-8 -*-\n",
    "\n",
    "\n",
    "'''Start mongodb, return the fda_records collection for querying'''\n",
    "def startmongodb():\n",
    "    from pymongo import MongoClient\n",
    "    client = MongoClient()\n",
    "    db = client.cbb750_final_database\n",
    "    collection = db['fda_records']\n",
    "    return collection\n",
    "#This gives us the required key/vals.\n"
   ]
  }
 ],
 "metadata": {
  "anaconda-cloud": {},
  "kernelspec": {
   "display_name": "Python [conda root]",
   "language": "python",
   "name": "conda-root-py"
  },
  "language_info": {
   "codemirror_mode": {
    "name": "ipython",
    "version": 2
   },
   "file_extension": ".py",
   "mimetype": "text/x-python",
   "name": "python",
   "nbconvert_exporter": "python",
   "pygments_lexer": "ipython2",
   "version": "2.7.12"
  }
 },
 "nbformat": 4,
 "nbformat_minor": 1
}
